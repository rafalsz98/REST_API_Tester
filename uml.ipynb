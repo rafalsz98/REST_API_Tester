%%plantuml

@startuml

package api {
    
    interface RESTMethod {
        # QNetworkAccessManager networkManager{}
        # QNetworkRequest request{}
        # bool finished = true
        # QString url = ""
        # QString headers = ""
        # QString body = ""
        # int statusCode = -1
        
        # QString parseRawHeadersPairs(const QList<QNetworkReply::RawHeaderPair>&)
        
        //signals (qt)
        + RESTMethod()
        + virtual ~RESTMethod()
        
        //public slots (qt)
        + void replyReady()
        + void alreadyRunning()
        + virtual void run()
        + virtual void parseParameters(QVariant)
        + virtual void setUrl(const QString&)
        + virtual QString getUrl() const
        + virtual QString getHeaders() const 
        + virtual QString getBody() const
        + virtual int getStatusCode() const
        + virtual void receiveReply(QNetworkReply*)
    }
    
    class Get {
        # QVector<QString> parameters{}
        
        //public slots (qt)
        + void run() override
        + void parseParameters(QVariant) override
    }
    
    class Post {
        # QVector<QString> parameters{}
        
        # QByteArray vectorRefactoring(const QVector<QString>)
        
        //public slots (qt)
        + void run() override
        + void parseParameters(QVariant) override
    }
    
    class Delete {
        # QString parameter = ""
        
        + Delete()
        
        //public slots (qt)
        + void run() override
        + void parseParameters(QVariant) override
    }
    
    class Put {
        # QJsonObject parameters
        
        //public slots (qt)
        + void run() override
        + void parseParameters(QVariant) override
    }

    enum httpMethods << (E,#e6bb57) Enum class, Metatype >> {
        + GET, POST, PUT, DELETE
    }
    
    class Parameter << (S,#FF7700) Struct, Metatype >>
    {
        + int ID
        + QString key
        + QString value
        
        + Parameter(int ID, QString key, QString value)
        + Parameter()
    }

        note right of Parameter
            struct made for
            ParameterModel in qml
        end note
    
    class UnitTest << (S,#FF7700) Struct, Metatype >>
    {
        + int ID
        + QString IP
        + httpMethods method
        + QList<Parameter>* parameterList{}
        + int resStatusCode
        
        + UnitTest(int ID, QString IP, httpMethods method, QList<Parameter>* parameterList, int resStatusCode)
        + UnitTest()
    }
    
        note right of UnitTest
            struct made for
            UnitTestModel in qml
        end note
    

    
    
    RESTMethod <|- Delete
    RESTMethod <|- Put
                       
    Get --|> RESTMethod
    Post --|> RESTMethod
    
    
    RESTMethod o-- Parameter
    Parameter --o UnitTest
    UnitTest o-- httpMethods
                       
    Delete -[hidden]-> UnitTest
                       
}

@enduml
